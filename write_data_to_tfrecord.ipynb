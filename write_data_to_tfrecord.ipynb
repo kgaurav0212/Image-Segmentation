{
 "cells": [
  {
   "cell_type": "code",
   "execution_count": 1,
   "metadata": {},
   "outputs": [
    {
     "name": "stderr",
     "output_type": "stream",
     "text": [
      "/misc/me/pratikm/virtualEnv/lib/python3.5/site-packages/h5py/__init__.py:36: FutureWarning: Conversion of the second argument of issubdtype from `float` to `np.floating` is deprecated. In future, it will be treated as `np.float64 == np.dtype(float).type`.\n",
      "  from ._conv import register_converters as _register_converters\n"
     ]
    }
   ],
   "source": [
    "import numpy as np\n",
    "import os\n",
    "from glob import glob\n",
    "import tensorflow as tf\n",
    "import tensorflow.contrib.eager as tfe\n",
    "import cv2\n",
    "import matplotlib.pyplot as plt\n",
    "from natsort import natsorted"
   ]
  },
  {
   "cell_type": "markdown",
   "metadata": {},
   "source": [
    "## Global variables"
   ]
  },
  {
   "cell_type": "code",
   "execution_count": 2,
   "metadata": {},
   "outputs": [],
   "source": [
    "DIR_DATA = '../test'\n",
    "DIR_INPUT = os.path.join(DIR_DATA, 'input')\n",
    "DIR_OUTPUT = os.path.join(DIR_DATA, 'output')\n",
    "\n",
    "IMG_OUT_H, IMG_OUT_W = 128, 128\n",
    "\n",
    "DIR_TFRECORDS = 'data_tfrecords/test'\n",
    "if not os.path.exists(DIR_TFRECORDS):\n",
    "    os.makedirs(DIR_TFRECORDS)"
   ]
  },
  {
   "cell_type": "markdown",
   "metadata": {},
   "source": [
    "## Process data"
   ]
  },
  {
   "cell_type": "code",
   "execution_count": 3,
   "metadata": {},
   "outputs": [],
   "source": [
    "def get_processed_data(img, mask, idx_class):\n",
    "    # resize all images to fixed size\n",
    "    img = cv2.resize(img, (IMG_OUT_W, IMG_OUT_W))\n",
    "    mask = cv2.resize(mask, (IMG_OUT_W, IMG_OUT_W))  \n",
    "    \n",
    "    idx_class = np.array(idx_class, dtype=np.float32)\n",
    "    \n",
    "    return img, mask, idx_class"
   ]
  },
  {
   "cell_type": "markdown",
   "metadata": {},
   "source": [
    "## Write data to tfrecord format"
   ]
  },
  {
   "cell_type": "code",
   "execution_count": 4,
   "metadata": {},
   "outputs": [],
   "source": [
    "# conversion functions (data to feature data types)\n",
    "def _bytes_feature(value):\n",
    "    return tf.train.Feature(bytes_list=tf.train.BytesList(value=[value]))\n",
    "\n",
    "def write_example_to_tfrecord(img, mask, idx_class, writer):\n",
    "    # get processed data\n",
    "    img, mask, idx_class = get_processed_data(img, mask, idx_class)\n",
    "    \n",
    "    # create example from this data\n",
    "    example = tf.train.Example(\n",
    "        features=tf.train.Features(\n",
    "            feature={\n",
    "                'img': _bytes_feature(img.tostring()),\n",
    "                'mask': _bytes_feature(mask.tostring()),\n",
    "                'idx_class': _bytes_feature(idx_class.tostring())\n",
    "            }\n",
    "        )\n",
    "    )\n",
    "\n",
    "    writer.write(example.SerializeToString())\n",
    "\n",
    "\n",
    "def write_data_to_tfrecord(folder_name, idx_class):\n",
    "    # read filenames\n",
    "    filenames = sorted(os.listdir(os.path.join(DIR_INPUT, folder_name)))\n",
    "    \n",
    "    # write data into single TFRecord files\n",
    "    idx_data = 0\n",
    "    \n",
    "    # new TFRecord file\n",
    "    filename_tfrecord = os.path.join(DIR_TFRECORDS, folder_name + '.tfrecords')\n",
    "    with tf.python_io.TFRecordWriter(filename_tfrecord) as writer:\n",
    "        for filename in filenames:                \n",
    "            # read input\n",
    "            path = os.path.join(os.path.join(DIR_INPUT, folder_name), filename)\n",
    "            img = cv2.imread(path)\n",
    "            img = cv2.cvtColor(img, cv2.COLOR_BGR2RGB)\n",
    "            \n",
    "            # read output\n",
    "            path = os.path.join(os.path.join(DIR_OUTPUT, folder_name), filename)\n",
    "            mask = cv2.imread(path, cv2.IMREAD_GRAYSCALE)\n",
    "            \n",
    "            # write to file\n",
    "            write_example_to_tfrecord(img, mask, idx_class, writer)"
   ]
  },
  {
   "cell_type": "code",
   "execution_count": 5,
   "metadata": {},
   "outputs": [
    {
     "name": "stdout",
     "output_type": "stream",
     "text": [
      "Reading from accordion\n",
      "Reading from airplanes\n",
      "Reading from anchor\n",
      "Reading from ant\n",
      "Reading from barrel\n",
      "Reading from bass\n",
      "Reading from beaver\n",
      "Reading from binocular\n",
      "Reading from bonsai\n",
      "Reading from brain\n",
      "Reading from brontosaurus\n",
      "Reading from buddha\n",
      "Reading from butterfly\n",
      "Reading from camera\n",
      "Reading from cannon\n",
      "Reading from car_side\n",
      "Reading from ceiling_fan\n",
      "Reading from cellphone\n",
      "Reading from chair\n",
      "Reading from chandelier\n",
      "Reading from cougar_body\n",
      "Reading from cougar_face\n",
      "Reading from crab\n",
      "Reading from crayfish\n",
      "Reading from crocodile\n",
      "Reading from crocodile_head\n",
      "Reading from cup\n",
      "Reading from dalmatian\n",
      "Reading from dollar_bill\n",
      "Reading from dolphin\n",
      "Reading from dragonfly\n",
      "Reading from electric_guitar\n",
      "Reading from elephant\n",
      "Reading from emu\n",
      "Reading from euphonium\n",
      "Reading from ewer\n",
      "Reading from Faces\n",
      "Reading from Faces_easy\n",
      "Reading from ferry\n",
      "Reading from flamingo\n",
      "Reading from flamingo_head\n",
      "Reading from garfield\n",
      "Reading from gerenuk\n",
      "Reading from gramophone\n",
      "Reading from grand_piano\n",
      "Reading from hawksbill\n",
      "Reading from headphone\n",
      "Reading from hedgehog\n",
      "Reading from helicopter\n",
      "Reading from ibis\n",
      "Reading from inline_skate\n",
      "Reading from joshua_tree\n",
      "Reading from kangaroo\n",
      "Reading from ketch\n",
      "Reading from lamp\n",
      "Reading from laptop\n",
      "Reading from Leopards\n",
      "Reading from llama\n",
      "Reading from lobster\n",
      "Reading from lotus\n",
      "Reading from mandolin\n",
      "Reading from mayfly\n",
      "Reading from menorah\n",
      "Reading from metronome\n",
      "Reading from minaret\n",
      "Reading from Motorbikes\n",
      "Reading from nautilus\n",
      "Reading from octopus\n",
      "Reading from okapi\n",
      "Reading from pagoda\n",
      "Reading from panda\n",
      "Reading from pigeon\n",
      "Reading from pizza\n",
      "Reading from platypus\n",
      "Reading from pyramid\n",
      "Reading from revolver\n",
      "Reading from rhino\n",
      "Reading from rooster\n",
      "Reading from saxophone\n",
      "Reading from schooner\n",
      "Reading from scissors\n",
      "Reading from scorpion\n",
      "Reading from sea_horse\n",
      "Reading from snoopy\n",
      "Reading from soccer_ball\n",
      "Reading from stapler\n",
      "Reading from starfish\n",
      "Reading from stegosaurus\n",
      "Reading from stop_sign\n",
      "Reading from strawberry\n",
      "Reading from sunflower\n",
      "Reading from tick\n",
      "Reading from trilobite\n",
      "Reading from umbrella\n",
      "Reading from watch\n",
      "Reading from water_lilly\n",
      "Reading from wheelchair\n",
      "Reading from wild_cat\n",
      "Reading from windsor_chair\n",
      "Reading from wrench\n",
      "Reading from yin_yang\n"
     ]
    }
   ],
   "source": [
    "if __name__ == '__main__':\n",
    "    # read all folder_names\n",
    "    folder_names = sorted(os.listdir(DIR_INPUT), key=lambda s: s.lower())\n",
    "    \n",
    "    # write each folder into tfrecords\n",
    "    for idx_class, folder_name in enumerate(folder_names):\n",
    "        print('Reading from', folder_name)\n",
    "        write_data_to_tfrecord(folder_name, idx_class)"
   ]
  },
  {
   "cell_type": "code",
   "execution_count": null,
   "metadata": {},
   "outputs": [],
   "source": []
  }
 ],
 "metadata": {
  "kernelspec": {
   "display_name": "Python 3",
   "language": "python",
   "name": "python3"
  },
  "language_info": {
   "codemirror_mode": {
    "name": "ipython",
    "version": 3
   },
   "file_extension": ".py",
   "mimetype": "text/x-python",
   "name": "python",
   "nbconvert_exporter": "python",
   "pygments_lexer": "ipython3",
   "version": "3.5.2"
  }
 },
 "nbformat": 4,
 "nbformat_minor": 2
}
