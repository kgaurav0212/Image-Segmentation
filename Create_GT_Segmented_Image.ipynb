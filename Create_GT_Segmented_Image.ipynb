{
 "cells": [
  {
   "cell_type": "code",
   "execution_count": 12,
   "metadata": {},
   "outputs": [],
   "source": [
    "import numpy as np\n",
    "import random as rnd\n",
    "import cv2\n",
    "import os\n",
    "from glob import glob\n",
    "import scipy.io\n",
    "\n",
    "from concurrent.futures import ProcessPoolExecutor\n",
    "from concurrent.futures import as_completed\n",
    "\n"
   ]
  },
  {
   "cell_type": "code",
   "execution_count": 13,
   "metadata": {},
   "outputs": [],
   "source": [
    "def create_dir(output_file):\n",
    "    if not os.path.exists(output_file):\n",
    "        os.makedirs(output_file)"
   ]
  },
  {
   "cell_type": "code",
   "execution_count": 14,
   "metadata": {},
   "outputs": [],
   "source": [
    "def is_inside_polygon(x, y, points):\n",
    "    \"\"\"\n",
    "    Return True if a coordinate (x, y) is inside a polygon defined by\n",
    "    a list of verticies [(x1, y1), (x2, x2), ... , (xN, yN)].\n",
    "\n",
    "    Reference: http://www.ariel.com.au/a/python-point-int-poly.html\n",
    "    \"\"\"\n",
    "    n = len(points)\n",
    "    inside = False\n",
    "    p1x, p1y = points[0]\n",
    "    for i in range(1, n + 1):\n",
    "        p2x, p2y = points[i % n]\n",
    "        if y > min(p1y, p2y):\n",
    "            if y <= max(p1y, p2y):\n",
    "                if x <= max(p1x, p2x):\n",
    "                    if p1y != p2y:\n",
    "                        xinters = (y - p1y) * (p2x - p1x) / (p2y - p1y) + p1x\n",
    "                    if p1x == p2x or x <= xinters:\n",
    "                        inside = not inside\n",
    "        p1x, p1y = p2x, p2y\n",
    "    return inside"
   ]
  },
  {
   "cell_type": "code",
   "execution_count": 15,
   "metadata": {},
   "outputs": [],
   "source": [
    "def get_counter_points(filename):\n",
    "    \n",
    "    mat = scipy.io.loadmat(filename)\n",
    "    box_coord = mat[\"box_coord\"]\n",
    "    box_coord = np.reshape(box_coord,[4])\n",
    "    counter_points = mat[\"obj_contour\"]\n",
    "    counter_points[0] +=  box_coord[2]\n",
    "    counter_points[1] +=  box_coord[0]\n",
    "    counter_points = np.transpose(counter_points).astype(int)\n",
    "    \n",
    "    return counter_points\n"
   ]
  },
  {
   "cell_type": "code",
   "execution_count": 16,
   "metadata": {},
   "outputs": [],
   "source": [
    "def write_ground_truth(filename,image_height,image_width,counter_points):\n",
    "    img = np.zeros([image_height,image_width],dtype=np.uint8)\n",
    "    \n",
    "    for y in range(image_height):\n",
    "        for x in range(image_width):\n",
    "            if is_inside_polygon(x,y,counter_points):\n",
    "                    img[y][x] = 255\n",
    "    cv2.imwrite(filename,img)\n",
    "    "
   ]
  },
  {
   "cell_type": "code",
   "execution_count": 25,
   "metadata": {},
   "outputs": [],
   "source": [
    "\n",
    "def read_and_write_gt(output_file,img_file,ann_file):\n",
    "    img = cv2.imread(img_file)\n",
    "    image_height,image_width,_ = img.shape\n",
    "\n",
    "    counter_points = get_counter_points(ann_file)\n",
    "#     cv2.polylines(img,[counter_points],True,(255,0,0),3)\n",
    "#     cv2.imshow(\"image\",img)\n",
    "#     cv2.waitKey(0)\n",
    "#     cv2.destroyAllWindows()\n",
    "    write_ground_truth(output_file,image_height,image_width,counter_points)\n"
   ]
  },
  {
   "cell_type": "code",
   "execution_count": 26,
   "metadata": {},
   "outputs": [],
   "source": [
    "IMAGES_BASE_PATH = \"101_ObjectCategories/\"\n",
    "ANNOTATIONS_BASE_PATH = \"Annotations/\"\n",
    "OUTPUT_BASE_PATH = \"101_ObjectCategories_Segmented/\"\n",
    "create_dir(OUTPUT_BASE_PATH)\n",
    "\n",
    "IS_MULTITHREADED = False\n",
    "max_workers = 1\n",
    "\n",
    "imgs_dir_list = os.listdir(IMAGES_BASE_PATH)\n",
    "\n",
    "if(IS_MULTITHREADED):\n",
    "    executor = ProcessPoolExecutor(max_workers=max_workers)\n",
    "\n",
    "futures = []\n",
    "\n",
    "for imgs_dir in imgs_dir_list:\n",
    "    img_filenames = sorted(glob(IMAGES_BASE_PATH + imgs_dir +'/*.jpg'))\n",
    "    ann_filenames = sorted(glob(ANNOTATIONS_BASE_PATH + imgs_dir +'/*.mat'))\n",
    "    create_dir(OUTPUT_BASE_PATH + imgs_dir)\n",
    "    for img_file,ann_file in zip(img_filenames,ann_filenames):\n",
    "        if(len(img_file.split(\"/\")) > 2):\n",
    "            output_file = OUTPUT_BASE_PATH + img_file.split(\"/\")[1] +\"/\" + img_file.split(\"/\")[2]\n",
    "        else:\n",
    "            output_file = OUTPUT_BASE_PATH + img_file.split(\"/\")[1]\n",
    "        if(IS_MULTITHREADED):\n",
    "            futures.append(executor.submit(read_and_write_gt,output_file,img_file,ann_file))\n",
    "        else:\n",
    "            read_and_write_gt(output_file,img_file,ann_file)\n",
    "        break\n",
    "    break\n",
    "    #print(imgs_dir + \" written\")\n",
    "if(IS_MULTITHREADED):\n",
    "    for future in as_completed(futures):\n",
    "        print(future.done(),end=\" \")"
   ]
  },
  {
   "cell_type": "code",
   "execution_count": null,
   "metadata": {},
   "outputs": [],
   "source": []
  },
  {
   "cell_type": "code",
   "execution_count": null,
   "metadata": {},
   "outputs": [],
   "source": []
  }
 ],
 "metadata": {
  "kernelspec": {
   "display_name": "Python 3",
   "language": "python",
   "name": "python3"
  },
  "language_info": {
   "codemirror_mode": {
    "name": "ipython",
    "version": 3
   },
   "file_extension": ".py",
   "mimetype": "text/x-python",
   "name": "python",
   "nbconvert_exporter": "python",
   "pygments_lexer": "ipython3",
   "version": "3.6.4"
  }
 },
 "nbformat": 4,
 "nbformat_minor": 2
}
